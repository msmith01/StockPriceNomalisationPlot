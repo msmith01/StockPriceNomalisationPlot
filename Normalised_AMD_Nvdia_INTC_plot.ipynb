{
 "cells": [
  {
   "cell_type": "code",
   "execution_count": 3,
   "metadata": {},
   "outputs": [],
   "source": [
    "################ Initialisation ####################\n",
    "rm(list=ls())\n",
    "shhh <- suppressPackageStartupMessages\n",
    "shhh(library(dplyr))\n",
    "library(magrittr)\n",
    "library(reshape2)\n",
    "library(tidyquant)\n",
    "library(directlabels)"
   ]
  },
  {
   "cell_type": "code",
   "execution_count": 4,
   "metadata": {},
   "outputs": [],
   "source": [
    "############### Collect the stock price and benchmark data #############\n",
    "\n",
    "nvda <- \"NVDA\" %>%\n",
    "  tq_get(get = \"stock.prices\",\n",
    "         from =  \"2017-01-01\",\n",
    "         to = Sys.Date())\n",
    "\n",
    "amd <- \"AMD\" %>%\n",
    "  tq_get(get = \"stock.prices\",\n",
    "         from =  \"2017-01-01\",\n",
    "         to = Sys.Date())\n",
    "\n",
    "txn <- \"TXN\" %>%\n",
    "  tq_get(get = \"stock.prices\",\n",
    "         from =  \"2017-01-01\",\n",
    "         to = Sys.Date())\n",
    "\n",
    "\n",
    "intc <- \"INTC\" %>%\n",
    "  tq_get(get = \"stock.prices\",\n",
    "         from =  \"2017-01-01\",\n",
    "         to = Sys.Date())\n",
    "\n",
    "nasdaq <- \"^IXIC\" %>%\n",
    "  tq_get(get = \"stock.prices\",\n",
    "         from = \"2017-01-01\",\n",
    "         to = Sys.Date())"
   ]
  },
  {
   "cell_type": "code",
   "execution_count": 6,
   "metadata": {},
   "outputs": [
    {
     "data": {
      "text/html": [
       "<table>\n",
       "<thead><tr><th scope=col>date</th><th scope=col>NVDA</th><th scope=col>AMD</th><th scope=col>INTC</th><th scope=col>NASDAQ</th></tr></thead>\n",
       "<tbody>\n",
       "\t<tr><td>2017-01-03</td><td>101.1116  </td><td>11.43     </td><td>34.06019  </td><td>5429.08   </td></tr>\n",
       "\t<tr><td>2017-01-04</td><td>103.4707  </td><td>11.43     </td><td>33.88338  </td><td>5477.00   </td></tr>\n",
       "\t<tr><td>2017-01-05</td><td>100.8440  </td><td>11.24     </td><td>33.82755  </td><td>5487.94   </td></tr>\n",
       "\t<tr><td>2017-01-06</td><td>102.1920  </td><td>11.32     </td><td>33.94852  </td><td>5521.06   </td></tr>\n",
       "\t<tr><td>2017-01-09</td><td>106.3352  </td><td>11.49     </td><td>34.06950  </td><td>5531.82   </td></tr>\n",
       "\t<tr><td>2017-01-10</td><td>105.5323  </td><td>11.44     </td><td>34.00436  </td><td>5551.82   </td></tr>\n",
       "</tbody>\n",
       "</table>\n"
      ],
      "text/latex": [
       "\\begin{tabular}{r|lllll}\n",
       " date & NVDA & AMD & INTC & NASDAQ\\\\\n",
       "\\hline\n",
       "\t 2017-01-03 & 101.1116   & 11.43      & 34.06019   & 5429.08   \\\\\n",
       "\t 2017-01-04 & 103.4707   & 11.43      & 33.88338   & 5477.00   \\\\\n",
       "\t 2017-01-05 & 100.8440   & 11.24      & 33.82755   & 5487.94   \\\\\n",
       "\t 2017-01-06 & 102.1920   & 11.32      & 33.94852   & 5521.06   \\\\\n",
       "\t 2017-01-09 & 106.3352   & 11.49      & 34.06950   & 5531.82   \\\\\n",
       "\t 2017-01-10 & 105.5323   & 11.44      & 34.00436   & 5551.82   \\\\\n",
       "\\end{tabular}\n"
      ],
      "text/markdown": [
       "\n",
       "| date | NVDA | AMD | INTC | NASDAQ |\n",
       "|---|---|---|---|---|\n",
       "| 2017-01-03 | 101.1116   | 11.43      | 34.06019   | 5429.08    |\n",
       "| 2017-01-04 | 103.4707   | 11.43      | 33.88338   | 5477.00    |\n",
       "| 2017-01-05 | 100.8440   | 11.24      | 33.82755   | 5487.94    |\n",
       "| 2017-01-06 | 102.1920   | 11.32      | 33.94852   | 5521.06    |\n",
       "| 2017-01-09 | 106.3352   | 11.49      | 34.06950   | 5531.82    |\n",
       "| 2017-01-10 | 105.5323   | 11.44      | 34.00436   | 5551.82    |\n",
       "\n"
      ],
      "text/plain": [
       "  date       NVDA     AMD   INTC     NASDAQ \n",
       "1 2017-01-03 101.1116 11.43 34.06019 5429.08\n",
       "2 2017-01-04 103.4707 11.43 33.88338 5477.00\n",
       "3 2017-01-05 100.8440 11.24 33.82755 5487.94\n",
       "4 2017-01-06 102.1920 11.32 33.94852 5521.06\n",
       "5 2017-01-09 106.3352 11.49 34.06950 5531.82\n",
       "6 2017-01-10 105.5323 11.44 34.00436 5551.82"
      ]
     },
     "metadata": {},
     "output_type": "display_data"
    }
   ],
   "source": [
    "########## Join the data together ###########\n",
    "# Ra is the asset price\n",
    "# Rb is the benchmark price (NASDAQ)\n",
    "RaRb <- nvda %>%\n",
    "  full_join(., amd, by = \"date\") %>%\n",
    "  full_join(., intc, by = \"date\") %>%\n",
    "  full_join(., nasdaq, by = \"date\") %>%\n",
    "  select(date, adjusted.x, adjusted.y, adjusted.x.x, adjusted.y.y) %>%\n",
    "  set_colnames(c(\"date\", \"NVDA\", \"AMD\", \"INTC\", \"NASDAQ\"))\n",
    "\n",
    "head(RaRb)"
   ]
  },
  {
   "cell_type": "code",
   "execution_count": 13,
   "metadata": {},
   "outputs": [
    {
     "name": "stdout",
     "output_type": "stream",
     "text": [
      "[1] \"The first 6 observations of the normalised prices\"\n"
     ]
    },
    {
     "data": {
      "text/html": [
       "<table>\n",
       "<thead><tr><th scope=col>date</th><th scope=col>NVDA</th><th scope=col>AMD</th><th scope=col>INTC</th><th scope=col>NASDAQ</th></tr></thead>\n",
       "<tbody>\n",
       "\t<tr><td>2017-01-03</td><td>1.0000000 </td><td>1.0000000 </td><td>1.0000000 </td><td>1.000000  </td></tr>\n",
       "\t<tr><td>2017-01-04</td><td>1.0233310 </td><td>1.0000000 </td><td>0.9948089 </td><td>1.008827  </td></tr>\n",
       "\t<tr><td>2017-01-05</td><td>0.9973533 </td><td>0.9833771 </td><td>0.9931697 </td><td>1.010842  </td></tr>\n",
       "\t<tr><td>2017-01-06</td><td>1.0106852 </td><td>0.9903762 </td><td>0.9967214 </td><td>1.016942  </td></tr>\n",
       "\t<tr><td>2017-01-09</td><td>1.0516616 </td><td>1.0052493 </td><td>1.0002734 </td><td>1.018924  </td></tr>\n",
       "\t<tr><td>2017-01-10</td><td>1.0437211 </td><td>1.0008749 </td><td>0.9983608 </td><td>1.022608  </td></tr>\n",
       "</tbody>\n",
       "</table>\n"
      ],
      "text/latex": [
       "\\begin{tabular}{r|lllll}\n",
       " date & NVDA & AMD & INTC & NASDAQ\\\\\n",
       "\\hline\n",
       "\t 2017-01-03 & 1.0000000  & 1.0000000  & 1.0000000  & 1.000000  \\\\\n",
       "\t 2017-01-04 & 1.0233310  & 1.0000000  & 0.9948089  & 1.008827  \\\\\n",
       "\t 2017-01-05 & 0.9973533  & 0.9833771  & 0.9931697  & 1.010842  \\\\\n",
       "\t 2017-01-06 & 1.0106852  & 0.9903762  & 0.9967214  & 1.016942  \\\\\n",
       "\t 2017-01-09 & 1.0516616  & 1.0052493  & 1.0002734  & 1.018924  \\\\\n",
       "\t 2017-01-10 & 1.0437211  & 1.0008749  & 0.9983608  & 1.022608  \\\\\n",
       "\\end{tabular}\n"
      ],
      "text/markdown": [
       "\n",
       "| date | NVDA | AMD | INTC | NASDAQ |\n",
       "|---|---|---|---|---|\n",
       "| 2017-01-03 | 1.0000000  | 1.0000000  | 1.0000000  | 1.000000   |\n",
       "| 2017-01-04 | 1.0233310  | 1.0000000  | 0.9948089  | 1.008827   |\n",
       "| 2017-01-05 | 0.9973533  | 0.9833771  | 0.9931697  | 1.010842   |\n",
       "| 2017-01-06 | 1.0106852  | 0.9903762  | 0.9967214  | 1.016942   |\n",
       "| 2017-01-09 | 1.0516616  | 1.0052493  | 1.0002734  | 1.018924   |\n",
       "| 2017-01-10 | 1.0437211  | 1.0008749  | 0.9983608  | 1.022608   |\n",
       "\n"
      ],
      "text/plain": [
       "  date       NVDA      AMD       INTC      NASDAQ  \n",
       "1 2017-01-03 1.0000000 1.0000000 1.0000000 1.000000\n",
       "2 2017-01-04 1.0233310 1.0000000 0.9948089 1.008827\n",
       "3 2017-01-05 0.9973533 0.9833771 0.9931697 1.010842\n",
       "4 2017-01-06 1.0106852 0.9903762 0.9967214 1.016942\n",
       "5 2017-01-09 1.0516616 1.0052493 1.0002734 1.018924\n",
       "6 2017-01-10 1.0437211 1.0008749 0.9983608 1.022608"
      ]
     },
     "metadata": {},
     "output_type": "display_data"
    },
    {
     "name": "stdout",
     "output_type": "stream",
     "text": [
      "[1] \"The final 6 observations of the normalised prices\"\n"
     ]
    },
    {
     "data": {
      "text/html": [
       "<table>\n",
       "<thead><tr><th scope=col>date</th><th scope=col>NVDA</th><th scope=col>AMD</th><th scope=col>INTC</th><th scope=col>NASDAQ</th></tr></thead>\n",
       "<tbody>\n",
       "\t<tr><td>2019-08-16</td><td>1.578058  </td><td>2.727909  </td><td>1.365230  </td><td>1.454388  </td></tr>\n",
       "\t<tr><td>2019-08-19</td><td>1.689024  </td><td>2.754156  </td><td>1.386663  </td><td>1.474064  </td></tr>\n",
       "\t<tr><td>2019-08-20</td><td>1.660244  </td><td>2.687664  </td><td>1.368166  </td><td>1.464071  </td></tr>\n",
       "\t<tr><td>2019-08-21</td><td>1.693475  </td><td>2.773403  </td><td>1.384314  </td><td>1.477269  </td></tr>\n",
       "\t<tr><td>2019-08-22</td><td>1.695947  </td><td>2.790901  </td><td>1.373451  </td><td>1.471960  </td></tr>\n",
       "\t<tr><td>2019-08-23</td><td>1.606541  </td><td>2.584427  </td><td>1.320016  </td><td>1.427824  </td></tr>\n",
       "</tbody>\n",
       "</table>\n"
      ],
      "text/latex": [
       "\\begin{tabular}{r|lllll}\n",
       " date & NVDA & AMD & INTC & NASDAQ\\\\\n",
       "\\hline\n",
       "\t 2019-08-16 & 1.578058   & 2.727909   & 1.365230   & 1.454388  \\\\\n",
       "\t 2019-08-19 & 1.689024   & 2.754156   & 1.386663   & 1.474064  \\\\\n",
       "\t 2019-08-20 & 1.660244   & 2.687664   & 1.368166   & 1.464071  \\\\\n",
       "\t 2019-08-21 & 1.693475   & 2.773403   & 1.384314   & 1.477269  \\\\\n",
       "\t 2019-08-22 & 1.695947   & 2.790901   & 1.373451   & 1.471960  \\\\\n",
       "\t 2019-08-23 & 1.606541   & 2.584427   & 1.320016   & 1.427824  \\\\\n",
       "\\end{tabular}\n"
      ],
      "text/markdown": [
       "\n",
       "| date | NVDA | AMD | INTC | NASDAQ |\n",
       "|---|---|---|---|---|\n",
       "| 2019-08-16 | 1.578058   | 2.727909   | 1.365230   | 1.454388   |\n",
       "| 2019-08-19 | 1.689024   | 2.754156   | 1.386663   | 1.474064   |\n",
       "| 2019-08-20 | 1.660244   | 2.687664   | 1.368166   | 1.464071   |\n",
       "| 2019-08-21 | 1.693475   | 2.773403   | 1.384314   | 1.477269   |\n",
       "| 2019-08-22 | 1.695947   | 2.790901   | 1.373451   | 1.471960   |\n",
       "| 2019-08-23 | 1.606541   | 2.584427   | 1.320016   | 1.427824   |\n",
       "\n"
      ],
      "text/plain": [
       "  date       NVDA     AMD      INTC     NASDAQ  \n",
       "1 2019-08-16 1.578058 2.727909 1.365230 1.454388\n",
       "2 2019-08-19 1.689024 2.754156 1.386663 1.474064\n",
       "3 2019-08-20 1.660244 2.687664 1.368166 1.464071\n",
       "4 2019-08-21 1.693475 2.773403 1.384314 1.477269\n",
       "5 2019-08-22 1.695947 2.790901 1.373451 1.471960\n",
       "6 2019-08-23 1.606541 2.584427 1.320016 1.427824"
      ]
     },
     "metadata": {},
     "output_type": "display_data"
    }
   ],
   "source": [
    "############# Normalise the data ################## \n",
    "normalise_series <- function(xdat) xdat / coredata(xdat)[1]\n",
    "\n",
    "normalised_RaRb <- RaRb %>%\n",
    "  mutate(NVDA = normalise_series(NVDA),\n",
    "         AMD = normalise_series(AMD),\n",
    "         INTC = normalise_series(INTC),\n",
    "         NASDAQ = normalise_series(NASDAQ))\n",
    "\n",
    "print(\"The first 6 observations of the normalised prices\")\n",
    "head(normalised_RaRb)\n",
    "print(\"The final 6 observations of the normalised prices\")\n",
    "tail(normalised_RaRb)"
   ]
  },
  {
   "cell_type": "code",
   "execution_count": 19,
   "metadata": {},
   "outputs": [
    {
     "data": {
      "image/png": "[encoded data removed]",
      "text/plain": [
       "plot without title"
      ]
     },
     "metadata": {},
     "output_type": "display_data"
    }
   ],
   "source": [
    "############# Melt the data and plot #############\n",
    "\n",
    "normalised_RaRb %>%\n",
    "  melt(id = \"date\") %>%\n",
    "  ggplot(aes(x = date, y = value, color = variable)) +\n",
    "  geom_line(aes(linetype = variable)) +\n",
    "  #scale_color_manual(values=c(\"red\", \"black\", \"darkblue\", \"yellow\", \"green\")) +\n",
    "  labs(title = \"Normalised NVDA, AMD, INTC and NASDAQ Benchmark\",\n",
    "       x = \"\", subtitle = \"From January 2017 - to Sys.Date()\", y = \"Normalised Price US$\", color = \"\") +\n",
    "  scale_y_continuous(labels = scales::dollar) +\n",
    "  theme_tq(base_size = 8) +\n",
    "  geom_dl(aes(label = variable), method = list(dl.combine(\"last.points\"), cex = 1)) +\n",
    "  scale_color_manual(values = c(NASDAQ = 'black',\n",
    "                                NVDA = 'darkgreen',\n",
    "                                AMD = 'red',\n",
    "                                INTC = 'blue')) +\n",
    "  theme(legend.position = \"none\")"
   ]
  }
 ],
 "metadata": {
  "kernelspec": {
   "display_name": "R",
   "language": "R",
   "name": "ir"
  },
  "language_info": {
   "codemirror_mode": "r",
   "file_extension": ".r",
   "mimetype": "text/x-r-source",
   "name": "R",
   "pygments_lexer": "r",
   "version": "3.6.1"
  }
 },
 "nbformat": 4,
 "nbformat_minor": 2
}
